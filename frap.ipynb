{
 "cells": [
  {
   "cell_type": "code",
   "execution_count": null,
   "metadata": {},
   "outputs": [],
   "source": [
    "import numpy as np\n",
    "import scipy.ndimage as ndimage\n",
    "import scipy.integrate\n",
    "\n",
    "import matplotlib.pyplot as plt\n",
    "from matplotlib.animation import FuncAnimation\n",
    "import matplotlib.colors\n",
    "\n",
    "import time\n",
    "import math\n",
    "\n",
    "%matplotlib inline"
   ]
  },
  {
   "cell_type": "code",
   "execution_count": null,
   "metadata": {},
   "outputs": [],
   "source": [
    "fe_diffusion_kernel = np.array(\n",
    "         [[[0, 0, 0],\n",
    "           [0, 1, 0],\n",
    "           [0, 0, 0]],\n",
    "            \n",
    "          [[0,  1, 0],\n",
    "           [1, -6, 1],\n",
    "           [0,  1, 0]],\n",
    "            \n",
    "          [[0, 0, 0],\n",
    "           [0, 1, 0],\n",
    "           [0, 0, 0]]]);\n",
    "\n",
    "def convolve(domain, kernel, dr):\n",
    "    return ndimage.convolve(domain, kernel / (dr ** 2), mode='constant', cval=1)\n",
    "def convolve_1d(domain, kernel, shape, dr):\n",
    "    return convolve(domain.reshape(shape),kernel,dr).reshape((-1,))\n",
    "\n",
    "def diffusion_two_phase(domain, phase_mask, partition_coeff, d_interior, d_exterior, dr):\n",
    "    # To simulate a partition coefficent, divide inner phase by partition_coeff\n",
    "    # before doing convolution\n",
    "    modified_domain = domain.copy();\n",
    "    modified_domain[phase_mask] /= partition_coeff;\n",
    "    \n",
    "    result = convolve(modified_domain, fe_diffusion_kernel, dr)\n",
    "    # Scale back changes in interior by partition_coeff\n",
    "    result[phase_mask] *= partition_coeff * d_interior;\n",
    "    result[~phase_mask] *= d_exterior;\n",
    "    return result;\n",
    "\n",
    "def diffusion_1d(domain, phase_mask, partition_coeff, d_interior, d_exterior, dr, shape):\n",
    "    return diffusion_two_phase(domain.reshape(shape), phase_mask, partition_coeff, d_interior, d_exterior, dr).reshape((-1,))"
   ]
  },
  {
   "cell_type": "code",
   "execution_count": null,
   "metadata": {},
   "outputs": [],
   "source": [
    "def generate_packed_sphere_mask(domain_shape, num_spheres, r_sphere, r_centers):\n",
    "    # Generates a hexagonal close packing of spheres, separated by r_centers\n",
    "    num_rows = math.ceil(math.sqrt(num_spheres))\n",
    "    entries_per_row = math.ceil(num_spheres / num_rows)\n",
    "    horz_sep = r_centers;\n",
    "    horz_offset = int(horz_sep / 2);\n",
    "    vert_offset = int(math.sqrt(3) / 2 * r_centers);\n",
    "    \n",
    "    x_offsets = [horz_sep * i for i in range(entries_per_row)];\n",
    "    avg_offset = sum(x_offsets) / entries_per_row;\n",
    "    x_offsets.sort(key=lambda x: abs(x - avg_offset))\n",
    "    \n",
    "    x_start = domain_shape[0] / 2 - (horz_sep * (-1/2 + entries_per_row / 2));\n",
    "    y_start = domain_shape[1] / 2 - (vert_offset * (-1/2 + num_rows / 2));\n",
    "    \n",
    "    total_mask = np.zeros(domain_shape, dtype=bool)\n",
    "    n_placed = 0;\n",
    "    for i in range(num_rows):\n",
    "        for x_offset in x_offsets:\n",
    "            if n_placed < num_spheres:\n",
    "                total_mask |= generate_sphere_mask(domain_shape,\n",
    "                           int(x_offset + x_start + (horz_offset * (i % 2))),\n",
    "                           int(y_start + vert_offset * i),\n",
    "                           int(domain_shape[2] / 2),\n",
    "                           r_sphere);\n",
    "            n_placed += 1\n",
    "    return total_mask"
   ]
  },
  {
   "cell_type": "code",
   "execution_count": null,
   "metadata": {},
   "outputs": [],
   "source": [
    "def generate_sphere_mask(domain_shape,x,y,z,r):\n",
    "    \"\"\"\n",
    "    Given an (x,y,z) sphere point (in index units) and r (in index units),\n",
    "    returns a boolean mask over the domain where true values lie within the sphere.\n",
    "    \"\"\"\n",
    "    x_vals = np.arange(domain_shape[0]).reshape(-1,1,1);\n",
    "    y_vals = np.arange(domain_shape[1]).reshape(1,-1,1);\n",
    "    z_vals = np.arange(domain_shape[2]).reshape(1,1,-1);\n",
    "    return ((x_vals - x)**2 + (y_vals - y)**2 + (z_vals - z)**2) < r**2\n",
    "\n",
    "def run_simulation(diffusion_interior, diffusion_exterior, partition_coeff,\n",
    "                 num_spheres, t_max, domain_resolution):\n",
    "    \"\"\"\n",
    "    Uses a \n",
    "    Inputs:\n",
    "        \n",
    "    \"\"\"\n",
    "    domain_shape = (domain_resolution * 5, domain_resolution * 5, domain_resolution)\n",
    "    width_spheres = int(domain_resolution * .7)\n",
    "    ics = np.ones(domain_shape);\n",
    "    sphere_mask = generate_packed_sphere_mask(ics.shape, num_spheres, width_spheres / 2, int(1.3 *width_spheres))\n",
    "    ics[sphere_mask] = 0;\n",
    "    \n",
    "    def ivp_func(t,x,mask=sphere_mask,shape=domain_shape,\n",
    "                 di=diffusion_interior, de=diffusion_exterior, K=partition_coeff):\n",
    "        return diffusion_1d(x, mask, K, di, de, 1, shape)\n",
    "    \n",
    "    results = scipy.integrate.solve_ivp(ivp_func, [0, t_max], ics.reshape((-1,)), method='RK23');\n",
    "    assert(results.success);\n",
    "    return (results.y.reshape(domain_shape + (results.y.shape[1],)),sphere_mask)"
   ]
  },
  {
   "cell_type": "code",
   "execution_count": null,
   "metadata": {},
   "outputs": [],
   "source": [
    "pre_wall, pre_cpu = (time.perf_counter(), time.process_time())\n",
    "domain_solution, phase_mask = run_simulation(.3,1,2,10,30,45)\n",
    "post_wall, post_cpu = (time.perf_counter(), time.process_time())\n",
    "print('Wall time: {:.2f} sec, CPU time: {:.2f}'.format(post_wall - pre_wall, post_cpu - pre_cpu))"
   ]
  },
  {
   "cell_type": "code",
   "execution_count": null,
   "metadata": {},
   "outputs": [],
   "source": [
    "fig, axes = plt.subplots(1,2, figsize=(10,5))\n",
    "im = axes[0].imshow(domain_solution[:,:,22,0], 'gray',matplotlib.colors.Normalize(0,2), aspect='equal')\n",
    "mean_recovery = [np.mean((domain_solution[:,:,:,i])[phase_mask]) for i in range(domain_solution.shape[3])]\n",
    "recovery_curve, = axes[1].plot(mean_recovery)\n",
    "axes[1].set_title('Mean recovery inside spheres')\n",
    "point, = axes[1].plot(0,mean_recovery[0], 'o')\n",
    "axes[1].plot(mean_recovery, 'k', linewidth=.5, alpha=.4)\n",
    "def animate_func(i):\n",
    "    im.set_array(domain_solution[:,:,22,i])\n",
    "    recovery_curve.set_xdata(range(i))\n",
    "    recovery_curve.set_ydata(mean_recovery[:i])\n",
    "    point.set_data(i, mean_recovery[i])\n",
    "anim = FuncAnimation(fig,animate_func,frames=domain_solution.shape[3])\n",
    "anim.save('test.mp4')"
   ]
  },
  {
   "cell_type": "code",
   "execution_count": null,
   "metadata": {},
   "outputs": [],
   "source": []
  }
 ],
 "metadata": {
  "kernelspec": {
   "display_name": "Python 3",
   "language": "python",
   "name": "python3"
  },
  "language_info": {
   "codemirror_mode": {
    "name": "ipython",
    "version": 3
   },
   "file_extension": ".py",
   "mimetype": "text/x-python",
   "name": "python",
   "nbconvert_exporter": "python",
   "pygments_lexer": "ipython3",
   "version": "3.6.8"
  }
 },
 "nbformat": 4,
 "nbformat_minor": 2
}
